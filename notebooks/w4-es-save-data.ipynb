{
 "cells": [
  {
   "cell_type": "markdown",
   "metadata": {},
   "source": [
    "# Spark Context"
   ]
  },
  {
   "cell_type": "code",
   "execution_count": 1,
   "metadata": {},
   "outputs": [
    {
     "name": "stderr",
     "output_type": "stream",
     "text": [
      "your 131072x1 screen size is bogus. expect trouble\n",
      "24/07/03 20:20:08 WARN Utils: Your hostname, DESKTOP-RMO2CFC resolves to a loopback address: 127.0.1.1; using 172.18.9.25 instead (on interface eth0)\n",
      "24/07/03 20:20:08 WARN Utils: Set SPARK_LOCAL_IP if you need to bind to another address\n",
      "24/07/03 20:20:11 WARN NativeCodeLoader: Unable to load native-hadoop library for your platform... using builtin-java classes where applicable\n",
      "Setting default log level to \"WARN\".\n",
      "To adjust logging level use sc.setLogLevel(newLevel). For SparkR, use setLogLevel(newLevel).\n"
     ]
    }
   ],
   "source": [
    "from pyspark.sql import SparkSession\n",
    "\n",
    "# Spark session & context\n",
    "spark = (SparkSession\n",
    "         .builder\n",
    "         .master(\"local\")\n",
    "         .appName(\"es-test\")\n",
    "         .config(\"spark.driver.extraClassPath\", \"/root/project/de-2024/resources/elasticsearch-spark-30_2.12-8.4.3.jar\")\n",
    "         .config(\"spark.jars\", \"/root/project/de-2024/resources/elasticsearch-spark-30_2.12-8.4.3.jar\")\n",
    "         .getOrCreate())\n",
    "sc = spark.sparkContext"
   ]
  },
  {
   "cell_type": "code",
   "execution_count": 2,
   "metadata": {},
   "outputs": [],
   "source": [
    "import os\n",
    "os.environ['PYSPARK_SUBMIT_ARGS'] = \\\n",
    "  '--jars /root/project/de-2024/resources/elasticsearch-spark-30_2.12-8.4.3.jar pyspark-shell'"
   ]
  },
  {
   "cell_type": "code",
   "execution_count": 5,
   "metadata": {},
   "outputs": [
    {
     "name": "stderr",
     "output_type": "stream",
     "text": [
      "                                                                                \r"
     ]
    }
   ],
   "source": [
    "df = spark.createDataFrame([(1, \"Hello\"), (2, \"World\")], [\"id\", \"message\"])\n",
    "df.show()"
   ]
  },
  {
   "cell_type": "code",
   "execution_count": null,
   "metadata": {},
   "outputs": [],
   "source": [
    "df.write.format(\"org.elasticsearch.spark.sql\") \\\n",
    "    .mode(\"append\") \\\n",
    "    .option(\"es.nodes\", \"http://localhost:9200\") \\\n",
    "    .option(\"es.nodes.discovery\", \"true\") \\\n",
    "    .option(\"es.resource\", \"daily-stats-2024\") \\\n",
    "    .save(\"test\")\n",
    "spark.stop()"
   ]
  },
  {
   "cell_type": "code",
   "execution_count": 6,
   "metadata": {},
   "outputs": [],
   "source": [
    "from elasticsearch import Elasticsearch\n",
    "\n",
    "# ElasticSearch 클라이언트 생성\n",
    "es = Elasticsearch(\"http://localhost:9200\")\n"
   ]
  },
  {
   "cell_type": "code",
   "execution_count": 7,
   "metadata": {},
   "outputs": [
    {
     "name": "stdout",
     "output_type": "stream",
     "text": [
      "Available indices: ['daily-stats-2024']\n"
     ]
    }
   ],
   "source": [
    "# 모든 인덱스 조회\n",
    "indices = es.indices.get_alias(\"*\")\n",
    "print(\"Available indices:\", list(indices.keys()))\n"
   ]
  },
  {
   "cell_type": "code",
   "execution_count": 9,
   "metadata": {},
   "outputs": [
    {
     "name": "stdout",
     "output_type": "stream",
     "text": [
      "{'id': 1, 'message': 'Hello'}\n",
      "{'id': 2, 'message': 'World'}\n"
     ]
    }
   ],
   "source": [
    "# 특정 인덱스의 모든 데이터 조회\n",
    "response = es.search(index=\"daily-stats-2024\", body={\"query\": {\"match_all\": {}}})\n",
    "\n",
    "# 검색 결과 출력\n",
    "for hit in response['hits']['hits']:\n",
    "    print(hit['_source'])\n"
   ]
  }
 ],
 "metadata": {
  "kernelspec": {
   "display_name": "Python 3 (ipykernel)",
   "language": "python",
   "name": "python3"
  },
  "language_info": {
   "codemirror_mode": {
    "name": "ipython",
    "version": 3
   },
   "file_extension": ".py",
   "mimetype": "text/x-python",
   "name": "python",
   "nbconvert_exporter": "python",
   "pygments_lexer": "ipython3",
   "version": "3.10.14"
  }
 },
 "nbformat": 4,
 "nbformat_minor": 2
}
