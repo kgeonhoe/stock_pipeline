{
 "cells": [
  {
   "cell_type": "code",
   "execution_count": 3,
   "metadata": {},
   "outputs": [
    {
     "name": "stderr",
     "output_type": "stream",
     "text": [
      "/root/miniconda3/envs/myvenv310/lib/python3.10/site-packages/requests/__init__.py:86: RequestsDependencyWarning: Unable to find acceptable character detection dependency (chardet or charset_normalizer).\n",
      "  warnings.warn(\n"
     ]
    }
   ],
   "source": [
    "from pyspark.sql import SparkSession\n",
    "from pykis import *\n",
    "from itertools import chain \n",
    "import pandas as pd \n",
    "import numpy as np \n",
    "# from library import mariadb\n",
    "# from library.trading_algorithms import EAVG, EAVG_vol\n",
    "from datetime import datetime, timedelta \n",
    "from dateutil.relativedelta import relativedelta\n",
    "import sys \n",
    "import os \n",
    "package_path = '/root/project/de-2024/jobs'\n",
    "sys.path.append(package_path)\n",
    "import cf"
   ]
  },
  {
   "cell_type": "code",
   "execution_count": 22,
   "metadata": {},
   "outputs": [],
   "source": [
    "'''코스피주식종목코드(kospi_code.mst) 정제 파이썬 파일'''\n",
    "\n",
    "import urllib.request\n",
    "import ssl\n",
    "import zipfile\n",
    "import os\n",
    "import pandas as pd\n",
    "\n",
    "base_dir = os.getcwd()\n",
    "\n",
    "def kospi_master_download(base_dir, verbose=False):\n",
    "    cwd = os.getcwd()\n",
    "    if (verbose): print(f\"current directory is {cwd}\")\n",
    "    ssl._create_default_https_context = ssl._create_unverified_context\n",
    "\n",
    "    urllib.request.urlretrieve(\"https://new.real.download.dws.co.kr/common/master/kospi_code.mst.zip\",\n",
    "                               base_dir + \"kospi_code.zip\")\n",
    "\n",
    "    os.chdir(base_dir)\n",
    "    if (verbose): print(f\"change directory to {base_dir}\")\n",
    "    kospi_zip = zipfile.ZipFile('kospi_code.zip')\n",
    "    kospi_zip.extractall()\n",
    "\n",
    "    kospi_zip.close()\n",
    "\n",
    "    if os.path.exists(\"kospi_code.zip\"):\n",
    "        os.remove(\"kospi_code.zip\")\n",
    "\n",
    "\n",
    "def get_kospi_master_dataframe(base_dir):\n",
    "    file_name = base_dir + \"kospi_code.mst\"\n",
    "    tmp_fil1 = base_dir + \"kospi_code_part1.tmp\"\n",
    "    tmp_fil2 = base_dir + \"kospi_code_part2.tmp\"\n",
    "\n",
    "    wf1 = open(tmp_fil1, mode=\"w\")\n",
    "    wf2 = open(tmp_fil2, mode=\"w\")\n",
    "\n",
    "    with open(file_name, mode=\"r\", encoding=\"cp949\") as f:\n",
    "        for row in f:\n",
    "            rf1 = row[0:len(row) - 228]\n",
    "            rf1_1 = rf1[0:9].rstrip()\n",
    "            rf1_2 = rf1[9:21].rstrip()\n",
    "            rf1_3 = rf1[21:].strip()\n",
    "            wf1.write(rf1_1 + ',' + rf1_2 + ',' + rf1_3 + '\\n')\n",
    "            rf2 = row[-228:]\n",
    "            wf2.write(rf2)\n",
    "\n",
    "    wf1.close()\n",
    "    wf2.close()\n",
    "\n",
    "    part1_columns = ['단축코드', '표준코드', '한글명']\n",
    "    df1 = pd.read_csv(tmp_fil1, header=None, names=part1_columns, encoding='utf-8')\n",
    "\n",
    "    field_specs = [2, 1, 4, 4, 4,\n",
    "                   1, 1, 1, 1, 1,\n",
    "                   1, 1, 1, 1, 1,\n",
    "                   1, 1, 1, 1, 1,\n",
    "                   1, 1, 1, 1, 1,\n",
    "                   1, 1, 1, 1, 1,\n",
    "                   1, 9, 5, 5, 1,\n",
    "                   1, 1, 2, 1, 1,\n",
    "                   1, 2, 2, 2, 3,\n",
    "                   1, 3, 12, 12, 8,\n",
    "                   15, 21, 2, 7, 1,\n",
    "                   1, 1, 1, 1, 9,\n",
    "                   9, 9, 5, 9, 8,\n",
    "                   9, 3, 1, 1, 1\n",
    "                   ]\n",
    "\n",
    "    part2_columns = ['그룹코드', '시가총액규모', '지수업종대분류', '지수업종중분류', '지수업종소분류',\n",
    "                     '제조업', '저유동성', '지배구조지수종목', 'KOSPI200섹터업종', 'KOSPI100',\n",
    "                     'KOSPI50', 'KRX', 'ETP', 'ELW발행', 'KRX100',\n",
    "                     'KRX자동차', 'KRX반도체', 'KRX바이오', 'KRX은행', 'SPAC',\n",
    "                     'KRX에너지화학', 'KRX철강', '단기과열', 'KRX미디어통신', 'KRX건설',\n",
    "                     'Non1', 'KRX증권', 'KRX선박', 'KRX섹터_보험', 'KRX섹터_운송',\n",
    "                     'SRI', '기준가', '매매수량단위', '시간외수량단위', '거래정지',\n",
    "                     '정리매매', '관리종목', '시장경고', '경고예고', '불성실공시',\n",
    "                     '우회상장', '락구분', '액면변경', '증자구분', '증거금비율',\n",
    "                     '신용가능', '신용기간', '전일거래량', '액면가', '상장일자',\n",
    "                     '상장주수', '자본금', '결산월', '공모가', '우선주',\n",
    "                     '공매도과열', '이상급등', 'KRX300', 'KOSPI', '매출액',\n",
    "                     '영업이익', '경상이익', '당기순이익', 'ROE', '기준년월',\n",
    "                     '시가총액', '그룹사코드', '회사신용한도초과', '담보대출가능', '대주가능'\n",
    "                     ]\n",
    "\n",
    "    df2 = pd.read_fwf(tmp_fil2, widths=field_specs, names=part2_columns)\n",
    "\n",
    "    df = pd.merge(df1, df2, how='outer', left_index=True, right_index=True)\n",
    "\n",
    "    # clean temporary file and dataframe\n",
    "    del (df1)\n",
    "    del (df2)\n",
    "    os.remove(tmp_fil1)\n",
    "    os.remove(tmp_fil2)\n",
    "    \n",
    "    print(\"Done\")\n",
    "\n",
    "    return df\n",
    "\n",
    "package_path = '/root/project/de-2024/data/'\n",
    "\n",
    "kospi_master_download(package_path)\n",
    "# df = get_kospi_master_dataframe(base_dir) \n",
    "\n",
    "#df3 = df[df['KRX증권'] == 'Y']\n",
    "# df3 = df\n",
    "# print(df3[['단축코드', '한글명', 'KRX', 'KRX증권', '기준가', '증거금비율', '상장일자', 'ROE']])\n",
    "# df3.to_excel('kospi_code.xlsx',index=False) # 현재 위치에 엑셀파일로 저장\n"
   ]
  },
  {
   "cell_type": "code",
   "execution_count": 23,
   "metadata": {},
   "outputs": [
    {
     "name": "stdout",
     "output_type": "stream",
     "text": [
      "Done\n"
     ]
    }
   ],
   "source": [
    "df = get_kospi_master_dataframe(package_path) \n"
   ]
  },
  {
   "cell_type": "code",
   "execution_count": 27,
   "metadata": {},
   "outputs": [
    {
     "data": {
      "text/plain": [
       "Index(['단축코드', '표준코드', '한글명', '그룹코드', '시가총액규모', '지수업종대분류', '지수업종중분류',\n",
       "       '지수업종소분류', '제조업', '저유동성', '지배구조지수종목', 'KOSPI200섹터업종', 'KOSPI100',\n",
       "       'KOSPI50', 'KRX', 'ETP', 'ELW발행', 'KRX100', 'KRX자동차', 'KRX반도체',\n",
       "       'KRX바이오', 'KRX은행', 'SPAC', 'KRX에너지화학', 'KRX철강', '단기과열', 'KRX미디어통신',\n",
       "       'KRX건설', 'Non1', 'KRX증권', 'KRX선박', 'KRX섹터_보험', 'KRX섹터_운송', 'SRI', '기준가',\n",
       "       '매매수량단위', '시간외수량단위', '거래정지', '정리매매', '관리종목', '시장경고', '경고예고', '불성실공시',\n",
       "       '우회상장', '락구분', '액면변경', '증자구분', '증거금비율', '신용가능', '신용기간', '전일거래량', '액면가',\n",
       "       '상장일자', '상장주수', '자본금', '결산월', '공모가', '우선주', '공매도과열', '이상급등', 'KRX300',\n",
       "       'KOSPI', '매출액', '영업이익', '경상이익', '당기순이익', 'ROE', '기준년월', '시가총액', '그룹사코드',\n",
       "       '회사신용한도초과', '담보대출가능', '대주가능'],\n",
       "      dtype='object')"
      ]
     },
     "execution_count": 27,
     "metadata": {},
     "output_type": "execute_result"
    }
   ],
   "source": [
    "df[df.한글명.str.contains(\"삼성\")].columns"
   ]
  }
 ],
 "metadata": {
  "kernelspec": {
   "display_name": "myvenv310",
   "language": "python",
   "name": "python3"
  },
  "language_info": {
   "codemirror_mode": {
    "name": "ipython",
    "version": 3
   },
   "file_extension": ".py",
   "mimetype": "text/x-python",
   "name": "python",
   "nbconvert_exporter": "python",
   "pygments_lexer": "ipython3",
   "version": "3.10.14"
  }
 },
 "nbformat": 4,
 "nbformat_minor": 2
}
